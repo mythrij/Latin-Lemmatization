{
 "cells": [
  {
   "cell_type": "code",
   "execution_count": 19,
   "metadata": {
    "collapsed": true
   },
   "outputs": [],
   "source": [
    "# Import libraries\n",
    "import itertools\n",
    "import string\n",
    "import shutil\n",
    "import time\n",
    "start_time = time.time()"
   ]
  },
  {
   "cell_type": "code",
   "execution_count": 20,
   "metadata": {
    "collapsed": false
   },
   "outputs": [],
   "source": [
    "# Input and output file paths\n",
    "LATIN_FILES_BASEPATH = \"Input/2_gram_input/\"\n",
    "LEMMATIZER_PATH = \"new_lemmatizer.csv\"\n",
    "NO_OF_FILES = 1\n",
    "OUTPUT_FILE = \"Output/2_gram_output_\"+str(NO_OF_FILES)"
   ]
  },
  {
   "cell_type": "code",
   "execution_count": 21,
   "metadata": {
    "collapsed": false
   },
   "outputs": [],
   "source": [
    "# Cycle through files in path and create master RDD\n",
    "basepath = LATIN_FILES_BASEPATH\n",
    "fileList = []\n",
    "for f in os.listdir(basepath):\n",
    "    fileList.append(f)\n",
    "fileList = sorted(fileList)\n",
    "\n",
    "textFile = sc.textFile(basepath + \"/\" + fileList[0])\n",
    "for f1 in fileList[1:NO_OF_FILES]:\n",
    "    textFile = textFile.union(sc.textFile(basepath + \"/\" + f1))\n"
   ]
  },
  {
   "cell_type": "code",
   "execution_count": 22,
   "metadata": {
    "collapsed": false
   },
   "outputs": [],
   "source": [
    "lemmaDict = {}"
   ]
  },
  {
   "cell_type": "code",
   "execution_count": 23,
   "metadata": {
    "collapsed": true
   },
   "outputs": [],
   "source": [
    "# Create a dictionary of lemmas for lookup\n",
    "\n",
    "def readLemmas():\n",
    "    with open(LEMMATIZER_PATH) as f1:\n",
    "        for line in f1.readlines():\n",
    "            lemmas = line.split(',')\n",
    "            lemmaDict[lemmas[0]] = list()\n",
    "            for word in lemmas[1:]:\n",
    "                if word=='':\n",
    "                    break\n",
    "                lemmaDict[lemmas[0]].append(word)"
   ]
  },
  {
   "cell_type": "code",
   "execution_count": 24,
   "metadata": {
    "collapsed": false
   },
   "outputs": [],
   "source": [
    "readLemmas()"
   ]
  },
  {
   "cell_type": "code",
   "execution_count": 25,
   "metadata": {
    "collapsed": true
   },
   "outputs": [],
   "source": [
    "# Preprocessing of lines to substitute lemmas and generate combinations\n",
    "def checkWord(line):\n",
    "    if (len(line)>0):\n",
    "        position = line.split(\"> \")[0]+\">\"\n",
    "        words=line.split(\"> \")[1].lower().translate(str.maketrans('','',string.punctuation)).split()\n",
    "        fullList =[]\n",
    "        for i in itertools.combinations(words,2):\n",
    "            a = list(i)\n",
    "            word1=i[0]\n",
    "            word2=i[1]\n",
    "            l1 =[]\n",
    "            if word1 in lemmaDict:\n",
    "                l1 = lemmaDict.get(word1)\n",
    "            else:\n",
    "                l1=[word1]\n",
    "            if word2 in lemmaDict:\n",
    "                l2 = lemmaDict.get(word2)\n",
    "            else:\n",
    "                l2=[word2]\n",
    "            for lemma_comb in list(itertools.product(l1,l2)):\n",
    "                fullList.append((position,tuple(sorted(lemma_comb)),))\n",
    "        return fullList"
   ]
  },
  {
   "cell_type": "code",
   "execution_count": 26,
   "metadata": {
    "collapsed": false
   },
   "outputs": [],
   "source": [
    "lines = textFile.map(checkWord)"
   ]
  },
  {
   "cell_type": "code",
   "execution_count": 27,
   "metadata": {
    "collapsed": false
   },
   "outputs": [],
   "source": [
    "#lines.collect()"
   ]
  },
  {
   "cell_type": "code",
   "execution_count": 28,
   "metadata": {
    "collapsed": false
   },
   "outputs": [],
   "source": [
    "keyValues = lines.flatMap(lambda line:line)"
   ]
  },
  {
   "cell_type": "code",
   "execution_count": 29,
   "metadata": {
    "collapsed": false
   },
   "outputs": [],
   "source": [
    "#keyValues.collect()"
   ]
  },
  {
   "cell_type": "code",
   "execution_count": 30,
   "metadata": {
    "collapsed": false
   },
   "outputs": [],
   "source": [
    "# Return key as pair and value as postion\n",
    "def processTuple(tuple1):\n",
    "    return tuple1[1],[tuple1[0]]"
   ]
  },
  {
   "cell_type": "code",
   "execution_count": 31,
   "metadata": {
    "collapsed": false
   },
   "outputs": [],
   "source": [
    "mapper = keyValues.map(processTuple)"
   ]
  },
  {
   "cell_type": "code",
   "execution_count": 32,
   "metadata": {
    "collapsed": false
   },
   "outputs": [],
   "source": [
    "#mapper.collect()"
   ]
  },
  {
   "cell_type": "code",
   "execution_count": 33,
   "metadata": {
    "collapsed": false
   },
   "outputs": [],
   "source": [
    "# Combine positions for a pair\n",
    "reducer = mapper.reduceByKey(lambda a,b: a+b)"
   ]
  },
  {
   "cell_type": "code",
   "execution_count": 34,
   "metadata": {
    "collapsed": false
   },
   "outputs": [],
   "source": [
    "#reducer.collect()"
   ]
  },
  {
   "cell_type": "code",
   "execution_count": 35,
   "metadata": {
    "collapsed": false
   },
   "outputs": [],
   "source": [
    "if os.path.exists(OUTPUT_FILE):\n",
    "    shutil.rmtree(OUTPUT_FILE)\n",
    "reducer.saveAsTextFile(OUTPUT_FILE)"
   ]
  },
  {
   "cell_type": "code",
   "execution_count": 36,
   "metadata": {
    "collapsed": false
   },
   "outputs": [
    {
     "name": "stdout",
     "output_type": "stream",
     "text": [
      "--- 9.43 seconds ---\n"
     ]
    }
   ],
   "source": [
    "print(\"--- %s seconds ---\" % round(time.time() - start_time, 2))"
   ]
  }
 ],
 "metadata": {
  "anaconda-cloud": {},
  "kernelspec": {
   "display_name": "Python [conda root]",
   "language": "python",
   "name": "conda-root-py"
  },
  "language_info": {
   "codemirror_mode": {
    "name": "ipython",
    "version": 3
   },
   "file_extension": ".py",
   "mimetype": "text/x-python",
   "name": "python",
   "nbconvert_exporter": "python",
   "pygments_lexer": "ipython3",
   "version": "3.5.2"
  }
 },
 "nbformat": 4,
 "nbformat_minor": 1
}
