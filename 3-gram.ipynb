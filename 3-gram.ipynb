{
 "cells": [
  {
   "cell_type": "code",
   "execution_count": 1,
   "metadata": {
    "collapsed": true
   },
   "outputs": [],
   "source": [
    "# Import libraries\n",
    "import itertools\n",
    "import string\n",
    "import shutil\n",
    "import time\n",
    "start_time = time.time()"
   ]
  },
  {
   "cell_type": "code",
   "execution_count": 2,
   "metadata": {
    "collapsed": true
   },
   "outputs": [],
   "source": [
    "# Input and output file paths\n",
    "LATIN_FILES_BASEPATH = \"Input/3_gram_input/\"\n",
    "LEMMATIZER_PATH = \"new_lemmatizer.csv\"\n",
    "NO_OF_FILES = 1\n",
    "OUTPUT_FILE = \"Output/3_gram_output_\"+str(NO_OF_FILES)"
   ]
  },
  {
   "cell_type": "code",
   "execution_count": 3,
   "metadata": {
    "collapsed": false
   },
   "outputs": [],
   "source": [
    "basepath = LATIN_FILES_BASEPATH\n",
    "fileList = []\n",
    "for f in os.listdir(basepath):\n",
    "    fileList.append(f)\n",
    "fileList = sorted(fileList)\n",
    "\n",
    "textFile = sc.textFile(basepath + \"/\" + fileList[0])\n",
    "for f1 in fileList[1:NO_OF_FILES]:\n",
    "    textFile = textFile.union(sc.textFile(basepath + \"/\" + f1))\n"
   ]
  },
  {
   "cell_type": "code",
   "execution_count": 4,
   "metadata": {
    "collapsed": false
   },
   "outputs": [],
   "source": [
    "lemmaDict = {}"
   ]
  },
  {
   "cell_type": "code",
   "execution_count": 5,
   "metadata": {
    "collapsed": true
   },
   "outputs": [],
   "source": [
    "def readLemmas():\n",
    "    with open(LEMMATIZER_PATH) as f1:\n",
    "        for line in f1.readlines():\n",
    "            lemmas = line.split(',')\n",
    "            lemmaDict[lemmas[0]] = list()\n",
    "            for word in lemmas[1:]:\n",
    "                if word=='':\n",
    "                    break\n",
    "                lemmaDict[lemmas[0]].append(word)"
   ]
  },
  {
   "cell_type": "code",
   "execution_count": 6,
   "metadata": {
    "collapsed": true
   },
   "outputs": [],
   "source": [
    "readLemmas()"
   ]
  },
  {
   "cell_type": "code",
   "execution_count": 7,
   "metadata": {
    "collapsed": true
   },
   "outputs": [],
   "source": [
    "def checkWord(line):\n",
    "    if (len(line)>0):\n",
    "        position = line.split(\"> \")[0]+\">\"\n",
    "        words=line.split(\"> \")[1].lower().translate(str.maketrans('','',string.punctuation)).split()\n",
    "        fullList =[]\n",
    "        for i in itertools.combinations(words,3):\n",
    "            a = list(i)\n",
    "            word1=i[0]\n",
    "            word2=i[1]\n",
    "            word3=i[2]\n",
    "            l1 =l2=l3=[]\n",
    "            if word1 in lemmaDict:\n",
    "                l1 = lemmaDict.get(word1)\n",
    "            else:\n",
    "                l1=[word1]\n",
    "            if word2 in lemmaDict:\n",
    "                l2 = lemmaDict.get(word2)\n",
    "            else:\n",
    "                l2=[word2]\n",
    "            if word3 in lemmaDict:\n",
    "                l3 = lemmaDict.get(word3)\n",
    "            else:\n",
    "                l3=[word3]\n",
    "            for lemma_comb in list(itertools.product(l1,l2,l3)):\n",
    "                fullList.append((position,tuple(sorted(lemma_comb)),))\n",
    "        return fullList"
   ]
  },
  {
   "cell_type": "code",
   "execution_count": 8,
   "metadata": {
    "collapsed": false
   },
   "outputs": [],
   "source": [
    "lines = textFile.map(checkWord)"
   ]
  },
  {
   "cell_type": "code",
   "execution_count": 9,
   "metadata": {
    "collapsed": false
   },
   "outputs": [],
   "source": [
    "#lines.collect()"
   ]
  },
  {
   "cell_type": "code",
   "execution_count": 10,
   "metadata": {
    "collapsed": false
   },
   "outputs": [],
   "source": [
    "keyValues = lines.flatMap(lambda line:line)"
   ]
  },
  {
   "cell_type": "code",
   "execution_count": 11,
   "metadata": {
    "collapsed": false
   },
   "outputs": [],
   "source": [
    "#keyValues.collect()"
   ]
  },
  {
   "cell_type": "code",
   "execution_count": 12,
   "metadata": {
    "collapsed": false
   },
   "outputs": [],
   "source": [
    "def processTuple(tuple1):\n",
    "    return tuple1[1],[tuple1[0]]"
   ]
  },
  {
   "cell_type": "code",
   "execution_count": 13,
   "metadata": {
    "collapsed": false
   },
   "outputs": [],
   "source": [
    "mapper = keyValues.map(processTuple)"
   ]
  },
  {
   "cell_type": "code",
   "execution_count": 14,
   "metadata": {
    "collapsed": false
   },
   "outputs": [],
   "source": [
    "#mapper.collect()"
   ]
  },
  {
   "cell_type": "code",
   "execution_count": 15,
   "metadata": {
    "collapsed": false
   },
   "outputs": [],
   "source": [
    "reducer = mapper.reduceByKey(lambda a,b: a+b)"
   ]
  },
  {
   "cell_type": "code",
   "execution_count": 16,
   "metadata": {
    "collapsed": false
   },
   "outputs": [],
   "source": [
    "#reducer.collect()"
   ]
  },
  {
   "cell_type": "code",
   "execution_count": 17,
   "metadata": {
    "collapsed": false
   },
   "outputs": [],
   "source": [
    "if os.path.exists(OUTPUT_FILE):\n",
    "    shutil.rmtree(OUTPUT_FILE)\n",
    "reducer.saveAsTextFile(OUTPUT_FILE)"
   ]
  },
  {
   "cell_type": "code",
   "execution_count": 18,
   "metadata": {
    "collapsed": false
   },
   "outputs": [
    {
     "name": "stdout",
     "output_type": "stream",
     "text": [
      "--- 22.99 seconds ---\n"
     ]
    }
   ],
   "source": [
    "print(\"--- %s seconds ---\" % round(time.time() - start_time, 2))"
   ]
  }
 ],
 "metadata": {
  "anaconda-cloud": {},
  "kernelspec": {
   "display_name": "Python [conda root]",
   "language": "python",
   "name": "conda-root-py"
  },
  "language_info": {
   "codemirror_mode": {
    "name": "ipython",
    "version": 3
   },
   "file_extension": ".py",
   "mimetype": "text/x-python",
   "name": "python",
   "nbconvert_exporter": "python",
   "pygments_lexer": "ipython3",
   "version": "3.5.2"
  }
 },
 "nbformat": 4,
 "nbformat_minor": 1
}
